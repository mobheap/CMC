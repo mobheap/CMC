{
 "cells": [
  {
   "cell_type": "code",
   "execution_count": 10,
   "metadata": {},
   "outputs": [
    {
     "name": "stdout",
     "output_type": "stream",
     "text": [
      "Requirement already satisfied: numpy in c:\\users\\gm4\\appdata\\local\\programs\\python\\python312\\lib\\site-packages (2.1.1)Note: you may need to restart the kernel to use updated packages.\n",
      "\n",
      "Requirement already satisfied: pandas in c:\\users\\gm4\\appdata\\local\\programs\\python\\python312\\lib\\site-packages (2.2.2)\n",
      "Requirement already satisfied: openpyxl in c:\\users\\gm4\\appdata\\local\\programs\\python\\python312\\lib\\site-packages (3.1.5)\n",
      "Requirement already satisfied: python-dateutil>=2.8.2 in c:\\users\\gm4\\appdata\\roaming\\python\\python312\\site-packages (from pandas) (2.9.0.post0)\n",
      "Requirement already satisfied: pytz>=2020.1 in c:\\users\\gm4\\appdata\\local\\programs\\python\\python312\\lib\\site-packages (from pandas) (2024.2)\n",
      "Requirement already satisfied: tzdata>=2022.7 in c:\\users\\gm4\\appdata\\local\\programs\\python\\python312\\lib\\site-packages (from pandas) (2024.1)\n",
      "Requirement already satisfied: et-xmlfile in c:\\users\\gm4\\appdata\\local\\programs\\python\\python312\\lib\\site-packages (from openpyxl) (1.1.0)\n",
      "Requirement already satisfied: six>=1.5 in c:\\users\\gm4\\appdata\\roaming\\python\\python312\\site-packages (from python-dateutil>=2.8.2->pandas) (1.16.0)\n"
     ]
    }
   ],
   "source": [
    "%pip install numpy pandas openpyxl"
   ]
  },
  {
   "cell_type": "code",
   "execution_count": 11,
   "metadata": {},
   "outputs": [],
   "source": [
    "import numpy as np\n",
    "import pandas as pd"
   ]
  },
  {
   "cell_type": "markdown",
   "metadata": {},
   "source": [
    "1 - ETENDUE"
   ]
  },
  {
   "cell_type": "code",
   "execution_count": 12,
   "metadata": {},
   "outputs": [
    {
     "name": "stdout",
     "output_type": "stream",
     "text": [
      "16\n"
     ]
    }
   ],
   "source": [
    "temps = [12, 15, 14, 17, 21, 24, 28, 26, 22, 19, 16, 13]\n",
    "\n",
    "def etendue(x):\n",
    "    return max(x) - min(x)\n",
    "\n",
    "resultat = etendue(temps)\n",
    "print(resultat)"
   ]
  },
  {
   "cell_type": "markdown",
   "metadata": {},
   "source": [
    "2 - VARIANCE"
   ]
  },
  {
   "cell_type": "code",
   "execution_count": 13,
   "metadata": {},
   "outputs": [
    {
     "name": "stdout",
     "output_type": "stream",
     "text": [
      "variance du groupe dev103 1.3400000000000003\n",
      "variance du groupe dev105 1.6475000000000002\n"
     ]
    }
   ],
   "source": [
    "dev103 = [18, 19, 17, 20, 18, 19, 17, 18, 20, 19, 16, 20, 17, 19, 18, 20, 19, 17, 19, 18]\n",
    "dev105 = [12, 14, 13, 15, 11, 13, 14, 12, 15, 13, 11, 12, 14, 13, 12, 11, 15, 13, 14, 12]\n",
    "\n",
    "def variance(x):\n",
    "    return np.var(x)\n",
    "\n",
    "print(f\"variance du groupe dev103 {variance(dev103)}\")\n",
    "print(f\"variance du groupe dev105 {variance(dev105)}\")"
   ]
  },
  {
   "cell_type": "markdown",
   "metadata": {},
   "source": [
    "3 - ECART TYPE"
   ]
  },
  {
   "cell_type": "code",
   "execution_count": 14,
   "metadata": {},
   "outputs": [
    {
     "name": "stdout",
     "output_type": "stream",
     "text": [
      "ecart type des salaires: 3341.8064320950484\n"
     ]
    }
   ],
   "source": [
    "salaries = {\n",
    "    'Poste': ['Ingénieur Senior', 'Ingénieur Confirmé', 'Ingénieur Junior', 'Ingénieur Débutant', 'Ingénieur en Formation',\n",
    "              'Technicien Expert', 'Technicien Senior', 'Technicien Confirmé', 'Technicien Junior', 'Technicien Débutant',\n",
    "              'Technicien en Formation', 'Assistant Technique', 'Apprenti Technicien', 'Stagiaire Technique'],\n",
    "    'Salaire Mensuel (en MAD)': [12986, 11458, 9167, 7639, 6875, 6111, 5347, 4583, 3820, 3361, 3056, 2750, 2445, 1667]\n",
    "}\n",
    "\n",
    "salaries = pd.DataFrame(salaries)\n",
    "\n",
    "def ecarttype(x):\n",
    "    return np.std(x)\n",
    "\n",
    "print(f\"ecart type des salaires: {ecarttype(salaries['Salaire Mensuel (en MAD)'])}\")"
   ]
  },
  {
   "cell_type": "markdown",
   "metadata": {},
   "source": [
    "4 - QUARTILES"
   ]
  },
  {
   "cell_type": "code",
   "execution_count": 15,
   "metadata": {},
   "outputs": [
    {
     "name": "stdout",
     "output_type": "stream",
     "text": [
      "quartiles du groupe dev105: [12. 13. 14.]\n"
     ]
    }
   ],
   "source": [
    "def quartiles(x):\n",
    "    per = [25,50,75]\n",
    "    return np.percentile(x,per)\n",
    "\n",
    "print(f\"quartiles du groupe dev105: {quartiles(dev105)}\")"
   ]
  },
  {
   "cell_type": "markdown",
   "metadata": {},
   "source": [
    "5 - DECILES"
   ]
  },
  {
   "cell_type": "code",
   "execution_count": 17,
   "metadata": {},
   "outputs": [
    {
     "name": "stdout",
     "output_type": "stream",
     "text": [
      "                                           Profession  revenu mensuel min  \\\n",
      "0      Salarié dans le secteur public (fonctionnaire)                4000   \n",
      "1     Employé dans le secteur privé (niveau débutant)                5000   \n",
      "2   Employé dans le secteur privé (niveau interméd...                8000   \n",
      "3       Employé dans le secteur privé (niveau senior)               15000   \n",
      "4                                 Médecin généraliste               20000   \n",
      "..                                                ...                 ...   \n",
      "89               Responsable de la recherche clinique               15000   \n",
      "90          Responsable de l'engagement communautaire               10000   \n",
      "91        Consultant en développement organisationnel               15000   \n",
      "92            Responsable de la communication interne               12000   \n",
      "93                        Expert en analyse de marché               12000   \n",
      "\n",
      "    revenu mensuel max  \n",
      "0                12000  \n",
      "1                 8000  \n",
      "2                15000  \n",
      "3                30000  \n",
      "4                50000  \n",
      "..                 ...  \n",
      "89               30000  \n",
      "90               20000  \n",
      "91               30000  \n",
      "92               25000  \n",
      "93               25000  \n",
      "\n",
      "[94 rows x 3 columns]\n",
      "deciles des revenus minimum: [ 3000.  6000.  8000. 10000. 10000. 12000. 12000. 15000. 15000. 20000.\n",
      " 30000.]\n",
      "deciles des revenus maximum: [ 8000. 12000. 19200. 20000. 25000. 25000. 25000. 30000. 30000. 40000.\n",
      " 80000.]\n"
     ]
    }
   ],
   "source": [
    "data = pd.read_excel('Table.xlsx')\n",
    "print(data)\n",
    "def deciles(x):\n",
    "    return np.percentile(x, np.arange(0, 101, 10))\n",
    "\n",
    "print(f\"deciles des revenus minimum: {deciles(data['revenu mensuel min'])}\")\n",
    "print(f\"deciles des revenus maximum: {deciles(data['revenu mensuel max'])}\")"
   ]
  },
  {
   "cell_type": "code",
   "execution_count": null,
   "metadata": {},
   "outputs": [],
   "source": []
  }
 ],
 "metadata": {
  "kernelspec": {
   "display_name": "Python 3",
   "language": "python",
   "name": "python3"
  },
  "language_info": {
   "codemirror_mode": {
    "name": "ipython",
    "version": 3
   },
   "file_extension": ".py",
   "mimetype": "text/x-python",
   "name": "python",
   "nbconvert_exporter": "python",
   "pygments_lexer": "ipython3",
   "version": "3.12.5"
  }
 },
 "nbformat": 4,
 "nbformat_minor": 2
}
